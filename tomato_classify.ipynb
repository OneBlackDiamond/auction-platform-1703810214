{
 "cells": [
  {
   "cell_type": "markdown",
   "source": [
    "# Projekt 3: Klasyfikacja Wieloklasowa Liści Pomidorów\n",
    "## Przygotowanie danych"
   ]
  },
  {
   "cell_type": "code",
   "source": [
    "import os\n",
    "import shutil\n",
    "import random\n",
    "import pandas as pd\n",
    "import numpy as np\n",
    "import cv2 as cv\n",
    "from sklearn.preprocessing import LabelEncoder"
   ]
  },
  {
   "cell_type": "code",
   "source": [
    "def gen_train_test(container_dir, max_category_sample=500):\n",
    "    data_dir = os.path.join(os.path.dirname(container_dir), 'data')\n",
    "    train_dir = os.path.join(data_dir, 'train')\n",
    "    test_dir = os.path.join(data_dir, 'test')\n",
    "\n",
    "    os.makedirs(train_dir, exist_ok=True)\n",
    "    os.makedirs(test_dir, exist_ok=True)\n",
    "\n",
    "    test_labels = []\n",
    "\n",
    "    for class_name in sorted(os.listdir(container_dir)):\n",
    "        class_path = os.path.join(container_dir, class_name)\n",
    "        if not os.path.isdir(class_path):\n",
    "            continue\n",
    "\n",
    "        files = [f for f in os.listdir(class_path) if os.path.isfile(os.path.join(class_path, f))]\n",
    "        random.shuffle(files)\n",
    "\n",
    "        train_files = files[:max_category_sample]\n",
    "        test_files = files[max_category_sample:max_category_sample + max_category_sample // 2]\n",
    "\n",
    "        train_class_dir = os.path.join(train_dir, class_name)\n",
    "        os.makedirs(train_class_dir, exist_ok=True)\n",
    "        for f in train_files:\n",
    "            shutil.copy(os.path.join(class_path, f), os.path.join(train_class_dir, f))\n",
    "\n",
    "        for f in test_files:\n",
    "            shutil.copy(os.path.join(class_path, f), os.path.join(test_dir, f))\n",
    "            test_labels.append({'filename': f, 'class': class_name})\n",
    "\n",
    "    df = pd.DataFrame(test_labels)\n",
    "    df.to_csv(os.path.join(data_dir, 'test_labels.csv'), index=False)\n",
    "    print(f\"Dane zapisano w {data_dir}\")"
   ]
  },
  {
   "cell_type": "code",
   "source": [
    "def load_train_images(container_path, newSize=(256,256), interpol=cv.INTER_AREA, colorConv=None, stand=False, ignore_image_a=True, norm=True, max_sample=200):\n",
    "    categories = sorted(os.listdir(container_path))\n",
    "    train_img, labels = [], []\n",
    "    \n",
    "    for cat in categories:\n",
    "        cat_dir = os.path.join(container_path, cat)\n",
    "        if not os.path.isdir(cat_dir):\n",
    "            continue\n",
    "        files = os.listdir(cat_dir)[:max_sample]\n",
    "        for f in files:\n",
    "            img = cv.imread(os.path.join(cat_dir, f))\n",
    "            if img is None: continue\n",
    "            if ignore_image_a and img.shape[-1] == 4:\n",
    "                img = img[..., :3]\n",
    "            if colorConv:\n",
    "                img = cv.cvtColor(img, colorConv)\n",
    "            img = cv.resize(img, newSize, interpolation=interpol).astype(np.float32)\n",
    "            if norm: img /= 255.0\n",
    "            train_img.append(img.flatten())\n",
    "            labels.append(cat)\n",
    "\n",
    "    le = LabelEncoder()\n",
    "    y = le.fit_transform(labels)\n",
    "    return {'data': np.array(train_img), 'categories_name': le.classes_.tolist(), 'categories_count': len(le.classes_), 'labels': y}"
   ]
  },
  {
   "cell_type": "code",
   "source": [
    "def load_test_images(container_path, labels_file, newSize=(256,256), interpol=cv.INTER_AREA, colorConv=None, stand=False, ignore_image_a=True, norm=True, max_sample=200):\n",
    "    df_labels = pd.read_csv(labels_file)\n",
    "    test_img, labels = [], []\n",
    "\n",
    "    files = df_labels['filename'].tolist()[:max_sample]\n",
    "    classes = df_labels['class'].tolist()[:max_sample]\n",
    "\n",
    "    for f, cat in zip(files, classes):\n",
    "        img = cv.imread(os.path.join(container_path, f))\n",
    "        if img is None: continue\n",
    "        if ignore_image_a and img.shape[-1] == 4:\n",
    "            img = img[..., :3]\n",
    "        if colorConv:\n",
    "            img = cv.cvtColor(img, colorConv)\n",
    "        img = cv.resize(img, newSize, interpolation=interpol).astype(np.float32)\n",
    "        if norm: img /= 255.0\n",
    "        test_img.append(img.flatten())\n",
    "        labels.append(cat)\n",
    "\n",
    "    le = LabelEncoder()\n",
    "    y = le.fit_transform(labels)\n",
    "    return {'data': np.array(test_img), 'categories_name': le.classes_.tolist(), 'categories_count': len(le.classes_), 'labels': y}"
   ]
  }
 ],
 "metadata": {
  "kernelspec": {"display_name": "Python 3", "language": "python", "name": "python3"},
  "language_info": {"version": "3.x"}
 },
 "nbformat": 4,
 "nbformat_minor": 5
}
