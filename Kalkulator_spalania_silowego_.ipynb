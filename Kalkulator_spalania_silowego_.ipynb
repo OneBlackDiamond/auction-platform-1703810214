{
  "cells": [
    {
      "cell_type": "markdown",
      "metadata": {
        "id": "view-in-github",
        "colab_type": "text"
      },
      "source": [
        "<a href=\"https://colab.research.google.com/github/OneBlackDiamond/auction-platform-1703810214/blob/main/Kalkulator_spalania_silowego_.ipynb\" target=\"_parent\"><img src=\"https://colab.research.google.com/assets/colab-badge.svg\" alt=\"Open In Colab\"/></a>"
      ]
    },
    {
      "cell_type": "markdown",
      "metadata": {
        "id": "9gPEXLdYInuk"
      },
      "source": [
        "# Kalkulator spalania kalorii podczas treningu siłowego\n",
        "Model matematyczny z uwzględnieniem pracy mechanicznej i fazy EPOC"
      ]
    },
    {
      "cell_type": "code",
      "execution_count": 10,
      "metadata": {
        "colab": {
          "base_uri": "https://localhost:8080/"
        },
        "id": "3NjSjy2BInum",
        "outputId": "8b37e0f5-49a2-435c-b955-9cb040c18598"
      },
      "outputs": [
        {
          "output_type": "execute_result",
          "data": {
            "text/plain": [
              "{'Energia mechaniczna (J)': 56505.6,\n",
              " 'Energia EPOC (J)': 36000.0,\n",
              " 'Energia całkowita (J)': 92505.6,\n",
              " 'Energia całkowita (kcal)': 22.11,\n",
              " 'Sumaryczna estymacja kalorii (kcal)': 32.11}"
            ]
          },
          "metadata": {},
          "execution_count": 10
        }
      ],
      "source": [
        "# Tworzenie rozszerzonego modelu spalania kalorii podczas treningu siłowego\n",
        "\n",
        "# Parametry wejściowe\n",
        "m = 60             # masa podnoszona (kg)\n",
        "g = 9.81           # przyspieszenie ziemskie (m/s^2)\n",
        "h = 0.5            # wysokość ruchu (m)\n",
        "eta = 0.25         # sprawność energetyczna mięśni\n",
        "n = 48             # liczba powtórzeń\n",
        "masa_ciala = 90    # masa ciała ćwiczącego (kg)\n",
        "\n",
        "# EPOC – efekt potreningowy\n",
        "P0 = 6             # początkowa moc metaboliczna (W/kg)\n",
        "k = 0.015          # współczynnik spadku\n",
        "T = 7200           # czas trwania EPOC (s)\n",
        "\n",
        "# Koszty dodatkowe (przybliżone, empiryczne)\n",
        "koszt_stabilizacji_kcal = 6      # napięcie mięśni głębokich itd.\n",
        "koszt_nerwowo_posturalny_kcal = 4  # napięcie statyczne, system nerwowy\n",
        "\n",
        "# Energia mechaniczna w J\n",
        "E_seria_J = (m * g * h) / eta\n",
        "E_trening_J = n * E_seria_J\n",
        "\n",
        "# Energia EPOC w J\n",
        "from math import exp\n",
        "E_epoc_J = (P0 / k) * (1 - exp(-k * T)) * masa_ciala\n",
        "\n",
        "# Całkowita energia w J i kcal\n",
        "E_total_J = E_trening_J + E_epoc_J\n",
        "E_total_kcal = E_total_J / 4184\n",
        "\n",
        "# Uwzględnienie innych kosztów metabolicznych (w kcal)\n",
        "E_sumaryczne_kcal = E_total_kcal + koszt_stabilizacji_kcal + koszt_nerwowo_posturalny_kcal\n",
        "\n",
        "{\n",
        "    \"Energia mechaniczna (J)\": round(E_trening_J, 2),\n",
        "    \"Energia EPOC (J)\": round(E_epoc_J, 2),\n",
        "    \"Energia całkowita (J)\": round(E_total_J, 2),\n",
        "    \"Energia całkowita (kcal)\": round(E_total_kcal, 2),\n",
        "    \"Sumaryczna estymacja kalorii (kcal)\": round(E_sumaryczne_kcal, 2)\n",
        "}\n"
      ]
    },
    {
      "cell_type": "code",
      "execution_count": null,
      "metadata": {
        "id": "jVuXqnx2Inun"
      },
      "outputs": [],
      "source": [
        "# Wykres mocy metabolicznej w czasie (EPOC)\n",
        "import matplotlib.pyplot as plt\n",
        "import numpy as np\n",
        "\n",
        "t = np.linspace(0, T, 1000)\n",
        "P_t = P0 * np.exp(-k * t)\n",
        "\n",
        "plt.plot(t / 60, P_t)\n",
        "plt.xlabel('Czas (minuty)')\n",
        "plt.ylabel('Moc metaboliczna [W/kg]')\n",
        "plt.title('Spadek mocy metabolicznej w fazie EPOC')\n",
        "plt.grid(True)\n",
        "plt.show()"
      ]
    }
  ],
  "metadata": {
    "kernelspec": {
      "display_name": "Python 3",
      "language": "python",
      "name": "python3"
    },
    "language_info": {
      "name": "python",
      "version": "3.x"
    },
    "colab": {
      "provenance": [],
      "include_colab_link": true
    }
  },
  "nbformat": 4,
  "nbformat_minor": 0
}